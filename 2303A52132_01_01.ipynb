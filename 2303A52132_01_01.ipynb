{
  "nbformat": 4,
  "nbformat_minor": 0,
  "metadata": {
    "colab": {
      "provenance": []
    },
    "kernelspec": {
      "name": "python3",
      "display_name": "Python 3"
    },
    "language_info": {
      "name": "python"
    }
  },
  "cells": [
    {
      "cell_type": "markdown",
      "source": [
        "**1. (1 ponto) Write Python code from scratch to find error metrics of deep learning model. Actual values and deep learning model predicted values are shown in Table 1. Also compare the resultswith the outcomes of libraries**\n",
        "\n",
        "YActual:[ 20 , 30 , 40 , 50 , 60]      \n",
        "YPred: [20.5 , 30.3 , 40.2 , 50.6 , 60.7]\n",
        "\n",
        "**Tabela 1: YActual Vs. YPred**"
      ],
      "metadata": {
        "id": "P__7Tm3UmXo8"
      }
    },
    {
      "cell_type": "code",
      "execution_count": null,
      "metadata": {
        "id": "Hgl_47W3i9FU"
      },
      "outputs": [],
      "source": [
        "import numpy as np\n",
        "y_actual = np.array([20,30,40,50,60])\n",
        "y_pridicted = np.array([20.5,30.3,40.2,50.6,60.7])"
      ]
    },
    {
      "cell_type": "code",
      "source": [
        "from sklearn.metrics import mean_absolute_error, mean_squared_error\n",
        "mae_lib = mean_absolute_error(y_actual, y_pridicted)\n",
        "print(f\"Mean Absolute Error (MAE) using scikit-learn: {mae_lib}\")\n",
        "mse_lib = mean_squared_error(y_actual, y_pridicted)\n",
        "print(f\"Mean Squared Error (MSE) using scikit-learn: {mse_lib}\")\n",
        "rmse_lib = np.sqrt(mse_lib)\n",
        "print(f\"Root Mean Squared Error (RMSE) using scikit-learn: {rmse_lib}\")\n"
      ],
      "metadata": {
        "colab": {
          "base_uri": "https://localhost:8080/"
        },
        "id": "_UqLxjMeljZ2",
        "outputId": "08789a54-bfa1-4faa-f72f-7b0dbf3e6509"
      },
      "execution_count": null,
      "outputs": [
        {
          "output_type": "stream",
          "name": "stdout",
          "text": [
            "Mean Absolute Error (MAE) using scikit-learn: 0.4600000000000016\n",
            "Mean Squared Error (MSE) using scikit-learn: 0.24600000000000147\n",
            "Root Mean Squared Error (RMSE) using scikit-learn: 0.49598387070549127\n"
          ]
        }
      ]
    },
    {
      "cell_type": "code",
      "source": [
        "mae=np.mean(np.abs(y_actual-y_pridicted))\n",
        "print(f\"mean absolute error is {mae}\")\n",
        "mse=np.mean(np.square(y_actual-y_pridicted))\n",
        "print(f\"mean squared error is {mse}\")\n",
        "rmse=np.sqrt(mse)\n",
        "print(f\"root mean squared error is {rmse}\")"
      ],
      "metadata": {
        "colab": {
          "base_uri": "https://localhost:8080/"
        },
        "id": "wigVqmBgjohF",
        "outputId": "73a2cdef-5bef-4823-d30b-7c671ec0d984"
      },
      "execution_count": null,
      "outputs": [
        {
          "output_type": "stream",
          "name": "stdout",
          "text": [
            "mean absolute error is 0.4600000000000016\n",
            "mean squared error is 0.24600000000000147\n",
            "root mean squared error is 0.49598387070549127\n"
          ]
        }
      ]
    },
    {
      "cell_type": "markdown",
      "source": [
        "**2. (1 ponto) Write python code from scratch to find evaluation metrics of deep learning model.Actual values and deep learning model predicted values are** **shown in Table 2. Also compare the results with outcome of libraries**\n",
        "\n",
        "YActual: [ 0 , 0 , 0 , 0 , 0 ]\n",
        "\n",
        "YPred: [0 , 0  , 1 , 2 , 2 ]\n",
        "\n",
        "**Tabela 2: YActual Vs. YPred**"
      ],
      "metadata": {
        "id": "FnCa5qb6y_86"
      }
    },
    {
      "cell_type": "code",
      "source": [
        "import numpy as np\n",
        "Y_actual = np.array([0, 1, 2, 0, 2, 0, 1, 2, 2])\n",
        "Y_pred = np.array([0, 1, 0, 0, 0, 1, 2, 0, 2])\n",
        "accuracy = np.mean(Y_actual == Y_pred)\n",
        "print(f\"Accuracy: {accuracy}\")\n",
        "def precision_recall_f1(y_true, y_pred, class_label):\n",
        "    tp = np.sum((y_true == class_label) & (y_pred == class_label))\n",
        "    fp = np.sum((y_true != class_label) & (y_pred == class_label))\n",
        "    fn = np.sum((y_true == class_label) & (y_pred != class_label))\n",
        "    precision = tp / (tp + fp) if (tp + fp) > 0 else 0\n",
        "    recall = tp / (tp + fn) if (tp + fn) > 0 else 0\n",
        "    f1_score = 2 * (precision * recall) / (precision + recall) if (precision + recall) > 0 else 0\n",
        "    return precision, recall, f1_score\n",
        "classes = np.unique(Y_actual)\n",
        "for class_label in classes:\n",
        "    precision, recall, f1_score = precision_recall_f1(Y_actual, Y_pred, class_label)\n",
        "    print(f\"Class {class_label} - Precision: {precision}, Recall: {recall}, F1-Score: {f1_score}\")"
      ],
      "metadata": {
        "colab": {
          "base_uri": "https://localhost:8080/"
        },
        "id": "TmyaAYaXobi4",
        "outputId": "a1b95c8c-a6e3-40c1-90a9-d5afa066dae9"
      },
      "execution_count": null,
      "outputs": [
        {
          "output_type": "stream",
          "name": "stdout",
          "text": [
            "Accuracy: 0.4444444444444444\n",
            "Class 0 - Precision: 0.4, Recall: 0.6666666666666666, F1-Score: 0.5\n",
            "Class 1 - Precision: 0.5, Recall: 0.5, F1-Score: 0.5\n",
            "Class 2 - Precision: 0.5, Recall: 0.25, F1-Score: 0.3333333333333333\n"
          ]
        }
      ]
    },
    {
      "cell_type": "code",
      "source": [
        "from sklearn.metrics import accuracy_score, precision_score, recall_score, f1_score\n",
        "accuracy_lib = accuracy_score(Y_actual, Y_pred)\n",
        "print(f\"Accuracy using scikit-learn: {accuracy_lib}\")\n",
        "precision_lib = precision_score(Y_actual, Y_pred, average=None)\n",
        "recall_lib = recall_score(Y_actual, Y_pred, average=None)\n",
        "f1_score_lib = f1_score(Y_actual, Y_pred, average=None)\n",
        "for class_label in classes:\n",
        "    print(f\"Class {class_label} - Precision using scikit-learn: {precision_lib[class_label]}, Recall using scikit-learn: {recall_lib[class_label]}, F1-Score using scikit-learn: {f1_score_lib[class_label]}\")"
      ],
      "metadata": {
        "colab": {
          "base_uri": "https://localhost:8080/"
        },
        "id": "imJnX6VYpIFj",
        "outputId": "188b3fcb-f9cb-4228-bcf1-8d4dd14fb2e8"
      },
      "execution_count": null,
      "outputs": [
        {
          "output_type": "stream",
          "name": "stdout",
          "text": [
            "Accuracy using scikit-learn: 0.4444444444444444\n",
            "Class 0 - Precision using scikit-learn: 0.4, Recall using scikit-learn: 0.6666666666666666, F1-Score using scikit-learn: 0.5\n",
            "Class 1 - Precision using scikit-learn: 0.5, Recall using scikit-learn: 0.5, F1-Score using scikit-learn: 0.5\n",
            "Class 2 - Precision using scikit-learn: 0.5, Recall using scikit-learn: 0.25, F1-Score using scikit-learn: 0.3333333333333333\n"
          ]
        }
      ]
    }
  ]
}